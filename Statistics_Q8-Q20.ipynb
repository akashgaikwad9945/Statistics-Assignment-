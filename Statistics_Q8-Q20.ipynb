{
 "cells": [
  {
   "cell_type": "markdown",
   "id": "f5fe5988-a152-4e83-a3d8-fea2bbe8659d",
   "metadata": {},
   "source": [
    "# Statistics_Q8-Q20"
   ]
  },
  {
   "cell_type": "code",
   "execution_count": 1,
   "id": "845f0c98-fe5d-470b-9a37-104ab345a23a",
   "metadata": {},
   "outputs": [],
   "source": [
    "import pandas as pd \n",
    "import numpy as np\n",
    "import seaborn as sns\n",
    "import statistics as st\n",
    "from scipy.stats import skew"
   ]
  },
  {
   "cell_type": "markdown",
   "id": "af192bd7-327d-488b-80e3-7bb814cb6733",
   "metadata": {},
   "source": [
    "# Q.8  Write a Python function to calculate the probability density function (PDF) of a continuous random variable for a given normal distribution."
   ]
  },
  {
   "cell_type": "code",
   "execution_count": 2,
   "id": "9db2a96b-53ab-42f2-9682-843b08ef5d0d",
   "metadata": {},
   "outputs": [
    {
     "name": "stdout",
     "output_type": "stream",
     "text": [
      "PDF value for x = 65 : 0.012951759566589175\n"
     ]
    }
   ],
   "source": [
    "import scipy.stats as stats\n",
    "\n",
    "def normal_pdf(x, mu, sigma):\n",
    "  \"\"\"\n",
    "  Calculates the probability density function (PDF) of a normal distribution.\n",
    "\n",
    "  Args:\n",
    "      x: The value of the random variable.\n",
    "      mu: The mean of the normal distribution.\n",
    "      sigma: The standard deviation of the normal distribution.\n",
    "\n",
    "  Returns:\n",
    "      The probability density function (PDF) value for the given x.\n",
    "  \"\"\"\n",
    "\n",
    "  return stats.norm.pdf(x, loc=mu, scale=sigma)\n",
    "\n",
    "# Example usage\n",
    "mu = 50  # Mean of the normal distribution\n",
    "sigma = 10  # Standard deviation of the normal distribution\n",
    "x_value = 65  # Value for which to calculate PDF\n",
    "\n",
    "pdf_value = normal_pdf(x_value, mu, sigma)\n",
    "print(\"PDF value for x =\", x_value, \":\", pdf_value)\n"
   ]
  },
  {
   "cell_type": "markdown",
   "id": "51d18508-afff-4609-b874-3dbc98e65b62",
   "metadata": {},
   "source": [
    "# Q.9  Create a program to calculate the cumulative distribution function (CDF) of exponential distribution."
   ]
  },
  {
   "cell_type": "code",
   "execution_count": 5,
   "id": "6ec2d65d-444e-4a29-97cb-4d1c3bbaa130",
   "metadata": {},
   "outputs": [
    {
     "name": "stdout",
     "output_type": "stream",
     "text": [
      "CDF value for x = 2 : 0.6321205588285577\n"
     ]
    }
   ],
   "source": [
    "\n",
    "def exponential_cdf(x, lam):\n",
    "  \"\"\"\n",
    "  Calculates the cumulative distribution function (CDF) of the exponential distribution.\n",
    "\n",
    "  Args:\n",
    "      x: The value of the random variable.\n",
    "      lam: The rate parameter of the exponential distribution.\n",
    "\n",
    "  Returns:\n",
    "      The CDF value for the given x.\n",
    "  \"\"\"\n",
    "\n",
    "  if x < 0:\n",
    "    return 0  # CDF is 0 for negative values in exponential distribution\n",
    "  else:\n",
    "    return stats.expon.cdf(x, scale=1/lam)  # Scale parameter is 1/lambda\n",
    "\n",
    "# Example usage\n",
    "lam = 0.5  # Rate parameter of the exponential distribution\n",
    "x_value = 2  # Value for which to calculate CDF\n",
    "\n",
    "cdf_value = exponential_cdf(x_value, lam)\n",
    "print(\"CDF value for x =\", x_value, \":\", cdf_value)\n"
   ]
  },
  {
   "cell_type": "markdown",
   "id": "e389f06d-bccf-48fc-babe-bf441c04e874",
   "metadata": {},
   "source": [
    "# Q.10  Write a Python function to calculate the probability mass function (PMF) of Poisson distribution"
   ]
  },
  {
   "cell_type": "code",
   "execution_count": 6,
   "id": "15c45d8b-06e7-46e2-9fac-4d4321e0bb90",
   "metadata": {},
   "outputs": [
    {
     "name": "stdout",
     "output_type": "stream",
     "text": [
      "PMF value for k = 2 : 0.22404180765538775\n"
     ]
    }
   ],
   "source": [
    "def poisson_pmf(k, lam):\n",
    "  \"\"\"\n",
    "  Calculates the probability mass function (PMF) of the Poisson distribution.\n",
    "\n",
    "  Args:\n",
    "      k: The number of events (non-negative integer).\n",
    "      lam: The average rate of events (lambda).\n",
    "\n",
    "  Returns:\n",
    "      The PMF value for the given k.\n",
    "  \"\"\"\n",
    "\n",
    "  # Handle non-negative integer input for k\n",
    "  if not isinstance(k, int) or k < 0:\n",
    "    raise ValueError(\"k must be a non-negative integer.\")\n",
    "\n",
    "  return stats.poisson.pmf(k, lam)\n",
    "\n",
    "# Example usage\n",
    "lam = 3  # Average rate of events (lambda)\n",
    "k = 2  # Number of events\n",
    "\n",
    "pmf_value = poisson_pmf(k, lam)\n",
    "print(\"PMF value for k =\", k, \":\", pmf_value)\n"
   ]
  },
  {
   "cell_type": "markdown",
   "id": "7726760c-e207-4838-b94c-67dd9b4c9d07",
   "metadata": {},
   "source": [
    "# Q.11  A company wants to test if a new website layout leads to a higher conversion rate (percentage of visitors \n",
    "# who make a purchase). They collect data from the old and new layouts to compare.\n",
    "# To generate the data use the following command:\n",
    " ```python\n",
    " import numpy as np\n",
    " # 50 purchases out of 1000 visitors\n",
    " old_layout = np.array([1] * 50 + [0] * 950)\n",
    " # 70 purchases out of 1000 visitors  \n",
    "new_layout = np.array([1] * 70 + [0] * 930)\n",
    " ```\n",
    "# Apply z-test to find which layout is successful."
   ]
  },
  {
   "cell_type": "code",
   "execution_count": 7,
   "id": "631170a0-9abb-4722-821f-e7453de1d266",
   "metadata": {},
   "outputs": [
    {
     "name": "stdout",
     "output_type": "stream",
     "text": [
      "Old Layout Conversion Rate: 0.05\n",
      "New Layout Conversion Rate: 0.07\n",
      "Z-statistic: 1.883108942886774\n",
      "Reject null hypothesis. New layout has a statistically significant higher conversion rate.\n"
     ]
    }
   ],
   "source": [
    "def generate_purchase_data(conversion_rate, visitors):\n",
    "  \"\"\"\n",
    "  Generates purchase data as an array with 1s for purchases and 0s for no purchases.\n",
    "\n",
    "  Args:\n",
    "      conversion_rate: The conversion rate (percentage of purchases / visitors).\n",
    "      visitors: The total number of visitors.\n",
    "\n",
    "  Returns:\n",
    "      A NumPy array representing the purchase data.\n",
    "  \"\"\"\n",
    "\n",
    "  num_purchases = int(conversion_rate * visitors)\n",
    "  return np.array([1] * num_purchases + [0] * (visitors - num_purchases))\n",
    "\n",
    "old_layout = generate_purchase_data(0.05, 1000)  # 5% conversion rate for old layout\n",
    "new_layout = generate_purchase_data(0.07, 1000)  # 7% conversion rate for new layout\n",
    "\n",
    "# Calculate conversion rates (optional, for clarity)\n",
    "old_conversion_rate = np.mean(old_layout)\n",
    "new_conversion_rate = np.mean(new_layout)\n",
    "print(\"Old Layout Conversion Rate:\", old_conversion_rate)\n",
    "print(\"New Layout Conversion Rate:\", new_conversion_rate)\n",
    "\n",
    "# Z-test for proportions\n",
    "prop_old = np.mean(old_layout)\n",
    "prop_new = np.mean(new_layout)\n",
    "n_old = len(old_layout)\n",
    "n_new = len(new_layout)\n",
    "\n",
    "pooled_prop = (prop_old * n_old + prop_new * n_new) / (n_old + n_new)\n",
    "pooled_std = np.sqrt(pooled_prop * (1 - pooled_prop) * (1 / n_old + 1 / n_new))\n",
    "\n",
    "z_statistic = (prop_new - prop_old) / pooled_std\n",
    "print(\"Z-statistic:\", z_statistic)\n",
    "\n",
    "# Significance level (alpha) - adjust based on your desired level (commonly 0.05)\n",
    "alpha = 0.05\n",
    "\n",
    "# Calculate p-value using the standard normal cumulative distribution function (cdf)\n",
    "p_value = 1 - stats.norm.cdf(z_statistic)\n",
    "\n",
    "# Hypothesis testing\n",
    "if p_value < alpha:\n",
    "  print(\"Reject null hypothesis. New layout has a statistically significant higher conversion rate.\")\n",
    "else:\n",
    "  print(\"Fail to reject null hypothesis. There is not enough evidence to conclude the new layout is better.\")\n"
   ]
  },
  {
   "cell_type": "markdown",
   "id": "33e8f092-9965-47ce-b81b-8fbf56c7b5a8",
   "metadata": {},
   "source": [
    "# Q.12 A tutoring service claims that its program improves students' exam scores. A sample of students who \n",
    "# participated in the program was taken, and their scores before and after the program were recorded.\n",
    " Use the below code to generate samples of respective arrays of marks:\n",
    " ```python\n",
    " before_program = np.array([75, 80, 85, 70, 90, 78, 92, 88, 82, 87])\n",
    " after_program = np.array([80, 85, 90, 80, 92, 80, 95, 90, 85, 88])\n",
    " ```\n",
    " Use z-test to find if the claims made by tutor are true or false"
   ]
  },
  {
   "cell_type": "code",
   "execution_count": 9,
   "id": "0fd850aa-d084-45c9-85cb-4caf51f99b5f",
   "metadata": {},
   "outputs": [
    {
     "name": "stdout",
     "output_type": "stream",
     "text": [
      "Z-statistic: 0.6411276714876429\n",
      "p-value: 0.2607198685679841\n",
      "Fail to reject null hypothesis. There is not enough evidence to conclude the program improves scores.\n"
     ]
    }
   ],
   "source": [
    "# Sample exam scores (before and after program)\n",
    "before_program = np.array([75, 80, 85, 70, 90, 78, 92, 88, 82, 87])\n",
    "after_program = np.array([80, 85, 90, 80, 92, 80, 95, 90, 85, 88])\n",
    "\n",
    "# Calculate means and standard deviations\n",
    "mean_before = np.mean(before_program)\n",
    "mean_after = np.mean(after_program)\n",
    "std_before = np.std(before_program)\n",
    "std_after = np.std(after_program)\n",
    "\n",
    "# Sample sizes\n",
    "n_before = len(before_program)\n",
    "n_after = len(after_program)\n",
    "\n",
    "# Pooled standard deviation\n",
    "pooled_std = np.sqrt(((n_before - 1) * std_before**2 + (n_after - 1) * std_after**2) / (n_before + n_after - 2))\n",
    "\n",
    "# Z-statistic\n",
    "z_statistic = (mean_after - mean_before) / pooled_std\n",
    "\n",
    "# Significance level (alpha)\n",
    "alpha = 0.05  # Common significance level\n",
    "\n",
    "# Calculate p-value using the standard normal cumulative distribution function (cdf)\n",
    "p_value = 1 - stats.norm.cdf(z_statistic)\n",
    "\n",
    "# Hypothesis testing\n",
    "print(\"Z-statistic:\", z_statistic)\n",
    "print(\"p-value:\", p_value)\n",
    "\n",
    "if p_value < alpha:\n",
    "  print(\"Reject null hypothesis. The program seems to have a statistically significant positive effect on exam scores.\")\n",
    "else:\n",
    "  print(\"Fail to reject null hypothesis. There is not enough evidence to conclude the program improves scores.\")\n"
   ]
  },
  {
   "cell_type": "markdown",
   "id": "485d56c1-7989-4d0a-a46c-d9e2740283c4",
   "metadata": {},
   "source": [
    "# Q.13  A pharmaceutical company wants to determine if a new drug is effective in reducing blood pressure. They \n",
    "# conduct a study and record blood pressure measurements before and after administering the drug.\n",
    " Use the below code to generate samples of respective arrays of blood pressure:\n",
    " ```python\n",
    " before_drug = np.array([145, 150, 140, 135, 155, 160, 152, 148, 130, 138])\n",
    " after_drug = np.array([130, 140, 132, 128, 145, 148, 138, 136, 125, 130])\n",
    " ```\n",
    " Implement z-test to find if the drug really works or not"
   ]
  },
  {
   "cell_type": "code",
   "execution_count": 10,
   "id": "5eb141db-38ac-4182-abaa-49f419d98e97",
   "metadata": {},
   "outputs": [
    {
     "name": "stdout",
     "output_type": "stream",
     "text": [
      "Z-statistic: -1.2443085882494078\n",
      "p-value: 0.893306994290019\n",
      "Fail to reject null hypothesis. There is not enough evidence to conclude the drug is effective.\n"
     ]
    }
   ],
   "source": [
    "# Sample blood pressure readings (before and after drug)\n",
    "before_drug = np.array([145, 150, 140, 135, 155, 160, 152, 148, 130, 138])\n",
    "after_drug = np.array([130, 140, 132, 128, 145, 148, 138, 136, 125, 130])\n",
    "\n",
    "# Calculate means and standard deviations\n",
    "mean_before = np.mean(before_drug)\n",
    "mean_after = np.mean(after_drug)\n",
    "std_before = np.std(before_drug)\n",
    "std_after = np.std(after_drug)\n",
    "\n",
    "# Sample sizes\n",
    "n_before = len(before_drug)\n",
    "n_after = len(after_drug)\n",
    "\n",
    "# Pooled standard deviation\n",
    "pooled_std = np.sqrt(((n_before - 1) * std_before**2 + (n_after - 1) * std_after**2) / (n_before + n_after - 2))\n",
    "\n",
    "# Z-statistic\n",
    "z_statistic = (mean_after - mean_before) / pooled_std\n",
    "\n",
    "# Significance level (alpha)\n",
    "alpha = 0.05  # Common significance level\n",
    "\n",
    "# Calculate p-value using the standard normal cumulative distribution function (cdf)\n",
    "p_value = 1 - stats.norm.cdf(z_statistic)\n",
    "\n",
    "# Hypothesis testing\n",
    "print(\"Z-statistic:\", z_statistic)\n",
    "print(\"p-value:\", p_value)\n",
    "\n",
    "if p_value < alpha:\n",
    "  print(\"Reject null hypothesis. The drug seems to have a statistically significant effect in reducing blood pressure.\")\n",
    "else:\n",
    "  print(\"Fail to reject null hypothesis. There is not enough evidence to conclude the drug is effective.\")\n"
   ]
  },
  {
   "cell_type": "markdown",
   "id": "51c530a0-08b9-4a94-bc7c-d67c4ca3b2ff",
   "metadata": {},
   "source": [
    "# Q.14  A customer service department claims that their average response time is less than 5 minutes. A sample \n",
    "# of recent customer interactions was taken, and the response times were recorded.\n",
    " Implement the below code to generate the array of response time:\n",
    " ```python\n",
    " response_times = np.array([4.3, 3.8, 5.1, 4.9, 4.7, 4.2, 5.2, 4.5, 4.6, 4.4])\n",
    " ```\n",
    " Implement z-test to find the claims made by customer service department are tru or false."
   ]
  },
  {
   "cell_type": "code",
   "execution_count": 11,
   "id": "fa4f3b27-1d22-4f63-854e-f8d1147fba5d",
   "metadata": {},
   "outputs": [
    {
     "name": "stdout",
     "output_type": "stream",
     "text": [
      "Z-statistic: 1.061485742014321\n",
      "p-value: 0.14423460458378923\n",
      "Fail to reject null hypothesis. There is not enough evidence to conclude the claim is true.\n"
     ]
    }
   ],
   "source": [
    "# Sample response times (in minutes)\n",
    "response_times = np.array([4.3, 3.8, 5.1, 4.9, 4.7, 4.2, 5.2, 4.5, 4.6, 4.4])\n",
    "\n",
    "# Average response time (claim to be less than 5 minutes)\n",
    "mean_response_time = 5\n",
    "\n",
    "# Sample size\n",
    "n = len(response_times)\n",
    "\n",
    "# Standard deviation (assuming it's unknown)\n",
    "std_dev = np.std(response_times)\n",
    "\n",
    "# Z-statistic for one-tailed test (less than)\n",
    "z_statistic = (mean_response_time - np.mean(response_times)) / std_dev\n",
    "\n",
    "# Significance level (alpha)\n",
    "alpha = 0.05  # Common significance level\n",
    "\n",
    "# Calculate p-value using the standard normal cumulative distribution function (cdf)\n",
    "# Since it's a one-tailed test, calculate the probability for the upper tail\n",
    "p_value = 1 - stats.norm.cdf(z_statistic)\n",
    "\n",
    "# Hypothesis testing\n",
    "print(\"Z-statistic:\", z_statistic)\n",
    "print(\"p-value:\", p_value)\n",
    "\n",
    "if p_value < alpha:\n",
    "  print(\"Reject null hypothesis. There is evidence to suggest the average response time is less than 5 minutes.\")\n",
    "else:\n",
    "  print(\"Fail to reject null hypothesis. There is not enough evidence to conclude the claim is true.\")\n"
   ]
  },
  {
   "cell_type": "markdown",
   "id": "29067b3f-46e7-49e3-aad0-f7fb1fa14447",
   "metadata": {},
   "source": [
    "# Q.15  A company is testing two different website layouts to see which one leads to higher click-through rates. \n",
    "# Write a Python function to perform an A/B test analysis, including calculating the t-statistic, degrees of \n",
    "# freedom, and p-value. Use the following data:\n",
    " ```python\n",
    " layout_a_clicks = [28, 32, 33, 29, 31, 34, 30, 35, 36, 37]\n",
    " layout_b_clicks = [40, 41, 38, 42, 39, 44, 43, 41, 45, 47]"
   ]
  },
  {
   "cell_type": "code",
   "execution_count": 12,
   "id": "2c75bbc8-1cf4-4eab-ab78-f684793f82e0",
   "metadata": {},
   "outputs": [
    {
     "name": "stdout",
     "output_type": "stream",
     "text": [
      "T-statistic: -7.692875136699702\n",
      "Degrees of freedom: 18\n",
      "p-value: 4.260288652968569e-07\n"
     ]
    }
   ],
   "source": [
    "def ab_test_analysis(data_a, data_b):\n",
    "  \"\"\"\n",
    "  Performs A/B test analysis for click-through rates.\n",
    "\n",
    "  Args:\n",
    "      data_a: An array of click-through counts for layout A.\n",
    "      data_b: An array of click-through counts for layout B.\n",
    "\n",
    "  Returns:\n",
    "      A dictionary containing the t-statistic, degrees of freedom, and p-value.\n",
    "  \"\"\"\n",
    "\n",
    "  # Convert data to NumPy arrays if necessary\n",
    "  data_a = np.asarray(data_a)\n",
    "  data_b = np.asarray(data_b)\n",
    "\n",
    "  # Check if data lengths are equal\n",
    "  if len(data_a) != len(data_b):\n",
    "    raise ValueError(\"Data arrays for layouts A and B must have the same length.\")\n",
    "\n",
    "  # Calculate means and standard deviations\n",
    "  mean_a = np.mean(data_a)\n",
    "  mean_b = np.mean(data_b)\n",
    "  std_a = np.std(data_a)\n",
    "  std_b = np.std(data_b)\n",
    "\n",
    "  # Calculate pooled standard deviation\n",
    "  pooled_std = np.sqrt(((len(data_a) - 1) * std_a**2 + (len(data_b) - 1) * std_b**2) / (len(data_a) + len(data_b) - 2))\n",
    "\n",
    "  # Calculate degrees of freedom\n",
    "  df = len(data_a) + len(data_b) - 2\n",
    "\n",
    "  # Calculate t-statistic\n",
    "  t_statistic = (mean_a - mean_b) / (pooled_std * np.sqrt(1 / len(data_a) + 1 / len(data_b)))\n",
    "\n",
    "  # Calculate p-value (two-tailed test)\n",
    "  p_value = 2 * (1 - stats.t.cdf(abs(t_statistic), df))  # Two-tailed test\n",
    "\n",
    "  # Return results\n",
    "  return {\n",
    "      \"t_statistic\": t_statistic,\n",
    "      \"degrees_of_freedom\": df,\n",
    "      \"p_value\": p_value\n",
    "  }\n",
    "\n",
    "# Example usage (replace with your actual data if needed)\n",
    "layout_a_clicks = [28, 32, 33, 29, 31, 34, 30, 35, 36, 37]\n",
    "layout_b_clicks = [40, 41, 38, 42, 39, 44, 43, 41, 45, 47]\n",
    "\n",
    "results = ab_test_analysis(layout_a_clicks, layout_b_clicks)\n",
    "print(\"T-statistic:\", results[\"t_statistic\"])\n",
    "print(\"Degrees of freedom:\", results[\"degrees_of_freedom\"])\n",
    "print(\"p-value:\", results[\"p_value\"])\n"
   ]
  },
  {
   "cell_type": "markdown",
   "id": "bf5ab995-740f-4953-b0cb-504a94b68d9b",
   "metadata": {
    "tags": []
   },
   "source": [
    "# Q.16 A pharmaceutical company wants to determine if a new drug is more effective than an existing drug in \n",
    "# reducing cholesterol levels. Create a program to analyze the clinical trial data and calculate the t statistic and p-value for the treatment effect.\n",
    "Use the following data of cholestrol level:\n",
    " ```python\n",
    " existing_drug_levels = [180, 182, 175, 185, 178, 176, 172, 184, 179, 183]\n",
    " new_drug_levels = [170, 172, 165, 168, 175, 173, 170, 178, 172, 176]"
   ]
  },
  {
   "cell_type": "code",
   "execution_count": 13,
   "id": "8d1e5e32-154f-4bde-98e4-57a299de65ed",
   "metadata": {},
   "outputs": [
    {
     "name": "stdout",
     "output_type": "stream",
     "text": [
      "T-statistic: 4.364450175013196\n",
      "Degrees of freedom: 18\n",
      "p-value: 0.00037373609400592755\n",
      "Reject null hypothesis. The new drug seems to have a statistically significant effect in reducing cholesterol levels compared to the existing drug.\n"
     ]
    }
   ],
   "source": [
    "# Existing drug cholesterol levels\n",
    "existing_drug_levels = [180, 182, 175, 185, 178, 176, 172, 184, 179, 183]\n",
    "\n",
    "# New drug cholesterol levels\n",
    "new_drug_levels = [170, 172, 165, 168, 175, 173, 170, 178, 172, 176]\n",
    "\n",
    "# Convert data to NumPy arrays for efficient calculations\n",
    "existing_drug_levels = np.asarray(existing_drug_levels)\n",
    "new_drug_levels = np.asarray(new_drug_levels)\n",
    "\n",
    "# Check if data lengths are equal (assumption for independent samples t-test)\n",
    "if len(existing_drug_levels) != len(new_drug_levels):\n",
    "  raise ValueError(\"Sample sizes for existing and new drug groups must be equal.\")\n",
    "\n",
    "# Calculate means and standard deviations\n",
    "existing_mean = np.mean(existing_drug_levels)\n",
    "new_mean = np.mean(new_drug_levels)\n",
    "existing_std = np.std(existing_drug_levels)\n",
    "new_std = np.std(new_drug_levels)\n",
    "\n",
    "# Pooled standard deviation (assuming equal variances)\n",
    "pooled_std = np.sqrt(((len(existing_drug_levels) - 1) * existing_std**2 + (len(new_drug_levels) - 1) * new_std**2) / (len(existing_drug_levels) + len(new_drug_levels) - 2))\n",
    "\n",
    "# Degrees of freedom (assuming equal variances)\n",
    "df = len(existing_drug_levels) + len(new_drug_levels) - 2\n",
    "\n",
    "# T-statistic for independent samples (assuming equal variances)\n",
    "t_statistic = (existing_mean - new_mean) / (pooled_std * np.sqrt(1 / len(existing_drug_levels) + 1 / len(new_drug_levels)))\n",
    "\n",
    "# P-value (two-tailed test)\n",
    "p_value = 2 * (1 - stats.t.cdf(abs(t_statistic), df))  # Two-tailed test\n",
    "\n",
    "# Print results\n",
    "print(\"T-statistic:\", t_statistic)\n",
    "print(\"Degrees of freedom:\", df)\n",
    "print(\"p-value:\", p_value)\n",
    "\n",
    "# Interpretation (optional)\n",
    "if p_value < 0.05:  # Adjust significance level based on your needs\n",
    "  print(\"Reject null hypothesis. The new drug seems to have a statistically significant effect in reducing cholesterol levels compared to the existing drug.\")\n",
    "else:\n",
    "  print(\"Fail to reject null hypothesis. There is not enough evidence to conclude the new drug is definitively more effective.\")\n"
   ]
  },
  {
   "cell_type": "markdown",
   "id": "635ad601-3e94-4ad9-b001-e5bf3fd027b7",
   "metadata": {},
   "source": [
    "# Q.17  A school district introduces an educational intervention program to improve math scores. Write a Python function to analyze pre- and post-intervention test scores, calculating the t-statistic and p-value to determine if the intervention had a significant impact.\n",
    " Use the following data of test score:\n",
    " ```python\n",
    " pre_intervention_scores = [80, 85, 90, 75, 88, 82, 92, 78, 85, 87]\n",
    " post_intervention_scores = [90, 92, 88, 92, 95, 91, 96, 93, 89, 93]"
   ]
  },
  {
   "cell_type": "code",
   "execution_count": 15,
   "id": "905b50a5-64ce-4006-b771-21b738c23424",
   "metadata": {},
   "outputs": [
    {
     "name": "stdout",
     "output_type": "stream",
     "text": [
      "T-statistic: 1.9234978538484915\n",
      "Degrees of freedom: 9\n",
      "p-value: 0.08657000537640602\n"
     ]
    }
   ],
   "source": [
    "def intervention_analysis(pre_scores, post_scores):\n",
    "  \"\"\"\n",
    "  Analyzes pre- and post-intervention test scores to assess the intervention effect.\n",
    "\n",
    "  Args:\n",
    "      pre_scores: An array of pre-intervention test scores.\n",
    "      post_scores: An array of post-intervention test scores.\n",
    "\n",
    "  Returns:\n",
    "      A dictionary containing the t-statistic, degrees of freedom, and p-value.\n",
    "  \"\"\"\n",
    "\n",
    "  # Convert data to NumPy arrays if necessary\n",
    "  pre_scores = np.asarray(pre_scores)\n",
    "  post_scores = np.asarray(post_scores)\n",
    "\n",
    "  # Check if data lengths are equal (paired samples assumption)\n",
    "  if len(pre_scores) != len(post_scores):\n",
    "    raise ValueError(\"Sample sizes for pre- and post-intervention scores must be equal.\")\n",
    "\n",
    "  # Calculate means and standard deviations\n",
    "  pre_mean = np.mean(pre_scores)\n",
    "  post_mean = np.mean(post_scores)\n",
    "  pre_std = np.std(pre_scores)\n",
    "  post_std = np.std(post_scores)\n",
    "\n",
    "  # Paired samples t-statistic\n",
    "  t_statistic = (post_mean - pre_mean) / (np.sqrt(0.5 * (pre_std**2 + post_std**2)))  # Assuming equal variances\n",
    "\n",
    "  # Degrees of freedom (paired samples)\n",
    "  df = len(pre_scores) - 1\n",
    "\n",
    "  # P-value (two-tailed test)\n",
    "  p_value = 2 * (1 - stats.t.cdf(abs(t_statistic), df))  # Two-tailed test\n",
    "\n",
    "  # Return results\n",
    "  return {\n",
    "      \"t_statistic\": t_statistic,\n",
    "      \"degrees_of freedom\": df,\n",
    "      \"p_value\": p_value\n",
    "  }\n",
    "\n",
    "# Example usage (replace with your actual data if needed)\n",
    "pre_intervention_scores = [80, 85, 90, 75, 88, 82, 92, 78, 85, 87]\n",
    "post_intervention_scores = [90, 92, 88, 92, 95, 91, 96, 93, 89, 93]\n",
    "\n",
    "results = intervention_analysis(pre_intervention_scores, post_intervention_scores)\n",
    "print(\"T-statistic:\", results[\"t_statistic\"])\n",
    "print(\"Degrees of freedom:\", results[\"degrees_of freedom\"])\n",
    "print(\"p-value:\", results[\"p_value\"])\n"
   ]
  },
  {
   "cell_type": "markdown",
   "id": "de63b3a2-2c0e-470a-a7d8-9fd98d7fed49",
   "metadata": {},
   "source": [
    "# Q.18  A political analyst wants to determine if there is a significant association between age groups and voter preferences (Candidate A or Candidate B). They collect data from a sample of 500 voters and classify them into different age groups and candidate preferences. Perform a Chi-Square test to determine if there is a significant association between age groups and voter preferences.\n",
    " Use the below code to generate data:\n",
    " ```python\n",
    " np.random.seed(0)\n",
    " age_groups = np.random.choice(['18-30', '31-50', '51+', '51+'], size=30)\n",
    " voter_preferences = np.random.choice(['Candidate A', 'Candidate B'], size=30)"
   ]
  },
  {
   "cell_type": "code",
   "execution_count": 17,
   "id": "9e094c59-43fa-4ca8-886d-ec5dbe3478d9",
   "metadata": {},
   "outputs": [
    {
     "name": "stdout",
     "output_type": "stream",
     "text": [
      "col_0  Candidate A  Candidate B\n",
      "row_0                          \n",
      "18-30           95           87\n",
      "31-50           87           82\n",
      "51+             84           65\n",
      "\n",
      "Chi-Square statistic: 0.8779923945254768\n",
      "p-value: 0.6446832311860852\n",
      "Degrees of freedom: 2\n",
      "We cannot conclude a statistically significant association based on this sample.\n"
     ]
    }
   ],
   "source": [
    "import pandas as pd\n",
    "from scipy.stats import chi2_contingency\n",
    "import numpy as np\n",
    "\n",
    "np.random.seed(0)  # For reproducibility\n",
    "\n",
    "# Generate data (500 voters)\n",
    "age_groups = np.random.choice(['18-30', '31-50', '51+'], size=500)\n",
    "voter_preferences = np.random.choice(['Candidate A', 'Candidate B'], size=500)\n",
    "\n",
    "# Create contingency table using pandas.crosstab\n",
    "contingency_table = pd.crosstab(age_groups, voter_preferences)\n",
    "print(contingency_table)  # Print contingency table for reference (optional)\n",
    "\n",
    "# Perform Chi-Square test\n",
    "chi2, pval, degrees_of_freedom, expected_table = chi2_contingency(contingency_table)\n",
    "\n",
    "# Print test results\n",
    "print(\"\\nChi-Square statistic:\", chi2)\n",
    "print(\"p-value:\", pval)\n",
    "print(\"Degrees of freedom:\", degrees_of_freedom)\n",
    "\n",
    "# Interpretation (replace with your own based on significance level)\n",
    "if pval < 0.05:\n",
    "    print(\"There is a statistically significant association between age groups and voter preferences.\")\n",
    "else:\n",
    "    print(\"We cannot conclude a statistically significant association based on this sample.\")\n"
   ]
  },
  {
   "cell_type": "markdown",
   "id": "b252567b-ba28-4257-bbe2-2ccb67e3bb73",
   "metadata": {},
   "source": [
    "# Q.19 A company conducted a customer satisfaction survey to determine if there is a significant relationship between product satisfaction levels (Satisfied, Neutral, Dissatisfied) and the region where customers are located (East, West, North, South). The survey data is summarized in a contingency table. Conduct a ChiSquare test to determine if there is a significant relationship between product satisfaction levels and customer regions.\n",
    " Sample data:\n",
    " ```python\n",
    " ```\n",
    " #Sample data: Product satisfaction levels (rows) vs. Customer regions (columns)\n",
    " data = np.array([[50, 30, 40, 20], [30, 40, 30, 50], [20, 30, 40, 30]])"
   ]
  },
  {
   "cell_type": "code",
   "execution_count": 18,
   "id": "3e666044-f56a-41bd-b2e6-dd2cd9650972",
   "metadata": {},
   "outputs": [
    {
     "name": "stdout",
     "output_type": "stream",
     "text": [
      "Chi-Square statistic: 27.777056277056275\n",
      "p-value: 0.00010349448486004387\n",
      "Degrees of freedom: 6\n",
      "There is a statistically significant association between product satisfaction levels and customer regions.\n"
     ]
    }
   ],
   "source": [
    "import numpy as np\n",
    "from scipy.stats import chi2_contingency\n",
    "\n",
    "# Provided data (reshape if necessary)\n",
    "data = np.array([[50, 30, 40, 20], [30, 40, 30, 50], [20, 30, 40, 30]])\n",
    "\n",
    "# Perform Chi-Square test\n",
    "chi2, pval, degrees_of_freedom, expected_table = chi2_contingency(data)\n",
    "\n",
    "# Print test results\n",
    "print(\"Chi-Square statistic:\", chi2)\n",
    "print(\"p-value:\", pval)\n",
    "print(\"Degrees of freedom:\", degrees_of_freedom)\n",
    "\n",
    "# Interpretation (replace with your own based on significance level)\n",
    "if pval < 0.05:\n",
    "    print(\"There is a statistically significant association between product satisfaction levels and customer regions.\")\n",
    "else:\n",
    "    print(\"We cannot conclude a statistically significant association based on this sample.\")\n"
   ]
  },
  {
   "cell_type": "markdown",
   "id": "1f850052-da5d-4edc-ab84-deec5ddb099e",
   "metadata": {},
   "source": [
    "# Q.20  A company produces three different versions of a product: Standard, Premium, and Deluxe. The company wants to determine if there is a significant difference in customer satisfaction scores among the three product versions. They conducted a survey and collected customer satisfaction scores for each version from a random sample of customers. Perform an ANOVA test to determine if there is a significant difference in customer satisfaction scores.\n",
    " Use the following data:\n",
    " ```python\n",
    " # Sample data: Customer satisfaction scores for each product version\n",
    " standard_scores = [80, 85, 90, 78, 88, 82, 92, 78, 85, 87]\n",
    " ```\n",
    " premium_scores = [90, 92, 88, 92, 95, 91, 96, 93, 89, 93]\n",
    " deluxe_scores = [95, 98, 92, 97, 96, 94, 98, 97, 92, 99]"
   ]
  },
  {
   "cell_type": "code",
   "execution_count": null,
   "id": "bd3d6a3a-2cf5-47e5-bd3e-80d64f87af34",
   "metadata": {},
   "outputs": [],
   "source": []
  }
 ],
 "metadata": {
  "kernelspec": {
   "display_name": "Python 3 (ipykernel)",
   "language": "python",
   "name": "python3"
  },
  "language_info": {
   "codemirror_mode": {
    "name": "ipython",
    "version": 3
   },
   "file_extension": ".py",
   "mimetype": "text/x-python",
   "name": "python",
   "nbconvert_exporter": "python",
   "pygments_lexer": "ipython3",
   "version": "3.10.8"
  }
 },
 "nbformat": 4,
 "nbformat_minor": 5
}
