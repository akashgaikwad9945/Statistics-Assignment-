{
 "cells": [
  {
   "cell_type": "markdown",
   "id": "a921464b-829f-47e3-95fb-79244f555e18",
   "metadata": {},
   "source": [
    "# Statistics_Q1"
   ]
  },
  {
   "cell_type": "raw",
   "id": "792e6dd8-d1ae-47b6-864c-7ee05b2f6506",
   "metadata": {},
   "source": [
    "Q1. Generate a list of 100 integers containing values between 90 to 130 and store it in the variable `int_list`. \n",
    "After generating the list, find the following:"
   ]
  },
  {
   "cell_type": "code",
   "execution_count": 1,
   "id": "a52b6be0-7f8d-40c7-996d-2309776fbcb1",
   "metadata": {},
   "outputs": [],
   "source": [
    "\n",
    "import pandas as pd\n",
    "import numpy as np\n",
    "import seaborn as sns\n",
    "import statistics as st"
   ]
  },
  {
   "cell_type": "code",
   "execution_count": 2,
   "id": "6f79cb53-bc45-40ff-a214-20627c8ef34e",
   "metadata": {},
   "outputs": [],
   "source": [
    "int_array = np.random.randint(99, 130, 100)"
   ]
  },
  {
   "cell_type": "code",
   "execution_count": 3,
   "id": "6aff797c-13bc-449c-9670-5e90928f23f2",
   "metadata": {},
   "outputs": [],
   "source": [
    "int_list = int_array.tolist()\n"
   ]
  },
  {
   "cell_type": "raw",
   "id": "d68dba3b-4a6f-48f4-bbc5-fd52ee0cbd31",
   "metadata": {},
   "source": [
    "(i) Write a Python function to calculate the mean of a given list of numbers.\n",
    " Create a function to find the median of a list of numbers."
   ]
  },
  {
   "cell_type": "code",
   "execution_count": 4,
   "id": "4b54a9e3-8132-455d-8086-4a48f28349de",
   "metadata": {},
   "outputs": [],
   "source": [
    "def cal_mean(int_list):\n",
    "    ans =  np.mean(int_list)\n",
    "    return ans\n",
    "        "
   ]
  },
  {
   "cell_type": "code",
   "execution_count": 5,
   "id": "d924dda1-0286-4091-b97e-5da3f3e0614d",
   "metadata": {},
   "outputs": [],
   "source": [
    "def cal_mean(int_list):\n",
    "    ans =  np.median(int_list)\n",
    "    return ans\n",
    "        "
   ]
  },
  {
   "cell_type": "raw",
   "id": "4af90987-bc6e-4c9d-95e8-3bf35c095871",
   "metadata": {},
   "source": [
    "(ii) Develop a program to compute the mode of a list of integers"
   ]
  },
  {
   "cell_type": "code",
   "execution_count": 6,
   "id": "5cca00df-4439-479d-924c-33258c9f76a9",
   "metadata": {},
   "outputs": [],
   "source": [
    "def cal_mode(int_list):\n",
    "    if not int_list:\n",
    "        return None\n",
    "    mode = st.mode(int_list)\n",
    "    return mode"
   ]
  },
  {
   "cell_type": "raw",
   "id": "4460e990-489b-409f-8e06-9399d0253f67",
   "metadata": {},
   "source": [
    " (iii) Implement a function to calculate the weighted mean of a list of values and their corresponding weights."
   ]
  },
  {
   "cell_type": "code",
   "execution_count": 7,
   "id": "4ab9e038-b156-4c42-aa64-28faa0ca21b4",
   "metadata": {},
   "outputs": [
    {
     "name": "stdout",
     "output_type": "stream",
     "text": [
      "Weighted Mean: 6.0\n"
     ]
    }
   ],
   "source": [
    "def weighted_mean(values, weights):\n",
    "  \"\"\"\n",
    "  This function calculates the weighted mean of a list of values and their corresponding weights.\n",
    "\n",
    "  Args:\n",
    "      values: A list of numerical values.\n",
    "      weights: A list of weights corresponding to the values, with the same length as values.\n",
    "\n",
    "  Returns:\n",
    "      The weighted mean of the values, or None if the lengths of values and weights differ or the total weight is zero.\n",
    "  \"\"\"\n",
    "\n",
    "  if len(values) != len(weights):\n",
    "    return None  # Handle different list lengths\n",
    "\n",
    "  # Calculate the product of each value and its weight\n",
    "  weighted_sum = sum(value * weight for value, weight in zip(values, weights))\n",
    "  total_weight = sum(weights)\n",
    "\n",
    "  # Calculate the weighted mean (if total weight is not zero)\n",
    "  if total_weight != 0:\n",
    "    return weighted_sum / total_weight\n",
    "  else:\n",
    "    return None  # Handle zero total weight\n",
    "\n",
    "# Example usage (assuming you have lists named 'values' and 'weights')\n",
    "values = [5, 8, 2]\n",
    "weights = [2, 3, 1]\n",
    "\n",
    "weighted_mean_value = weighted_mean(values, weights)\n",
    "\n",
    "if weighted_mean_value is not None:\n",
    "  print(\"Weighted Mean:\", weighted_mean_value)\n",
    "else:\n",
    "  print(\"Error: Lists 'values' and 'weights' must have the same length, or total weight cannot be zero.\")\n"
   ]
  },
  {
   "cell_type": "raw",
   "id": "8ed82fb2-8937-42de-ba35-ce34cd142a2d",
   "metadata": {},
   "source": [
    "(iv) Write a Python function to find the geometric mean of a list of positive numbers."
   ]
  },
  {
   "cell_type": "code",
   "execution_count": 8,
   "id": "c70c0d13-65ed-4459-8fb7-602cf7643ed0",
   "metadata": {},
   "outputs": [
    {
     "name": "stdout",
     "output_type": "stream",
     "text": [
      "Geometric Mean: 0.0\n"
     ]
    }
   ],
   "source": [
    "# Ensure all elements in int_list are positive (geometric mean is undefined for non-positive numbers)\n",
    "positive_list = [x for x in int_list if x > 0]  # Filter out non-positive elements\n",
    "\n",
    "if not positive_list:\n",
    "  print(\"Error: Geometric mean cannot be calculated for a list containing only non-positive numbers.\")\n",
    "else:\n",
    "  # Calculate geometric mean using np.prod (product) and np.power (power)\n",
    "  geometric_mean = np.power(np.prod(positive_list), 1 / len(positive_list))\n",
    "  print(\"Geometric Mean:\", geometric_mean)\n"
   ]
  },
  {
   "cell_type": "raw",
   "id": "e6de54b0-33e9-48dc-8170-98deec28399c",
   "metadata": {},
   "source": [
    " (v) Create a program to calculate the harmonic mean of a list of values."
   ]
  },
  {
   "cell_type": "code",
   "execution_count": 9,
   "id": "ea975ef2-3a37-419d-a8b5-b7a2f5bcded0",
   "metadata": {},
   "outputs": [],
   "source": [
    "def harmonic_mean(int_list):\n",
    "  \"\"\"\n",
    "  This function calculates the harmonic mean of a list of integers.\n",
    "\n",
    "  Args:\n",
    "      int_list: A list of numerical values.\n",
    "\n",
    "  Returns:\n",
    "      The harmonic mean of the values, or None if the list contains zero or negative values.\n",
    "  \"\"\"\n",
    "\n",
    "  # Check for non-positive values\n",
    "  if any(value <= 0 for value in int_list):\n",
    "    return None  # Handle non-positive values\n",
    "\n",
    "\n",
    "  # Calculate the harmonic mean\n",
    "  harmonic_mean_value = st.harmonic_mean(int_list)\n",
    "\n",
    "  return harmonic_mean_value\n",
    "\n"
   ]
  },
  {
   "cell_type": "raw",
   "id": "bb60b649-46d0-42d4-8810-ecdcc59cc5b3",
   "metadata": {},
   "source": [
    " (vi) Build a function to determine the midrange of a list of numbers (average of the minimum and maximum)"
   ]
  },
  {
   "cell_type": "code",
   "execution_count": 10,
   "id": "6a5512d7-5e34-489c-b142-975fe39a7901",
   "metadata": {},
   "outputs": [],
   "source": [
    "def midrange(int_list):\n",
    "    max_val = np.max(int_list)\n",
    "    min_val = np.min(int_list)\n",
    "    \n",
    "    cal_midrange = max_val + min_val\n",
    "    \n",
    "    return cal_midrange"
   ]
  },
  {
   "cell_type": "raw",
   "id": "0fb86228-0d84-4777-8167-5a288c26c9d9",
   "metadata": {},
   "source": [
    " (vii) Implement a Python program to find the trimmed mean of a list, excluding a certain percentage of \n",
    "outliers"
   ]
  },
  {
   "cell_type": "code",
   "execution_count": 11,
   "id": "7169e96c-c3d8-4204-a6dd-f502d1b37205",
   "metadata": {},
   "outputs": [],
   "source": [
    "\n",
    "def trimmed_mean(int_list, percentage):\n",
    "  \"\"\"\n",
    "  This function calculates the trimmed mean of a list, excluding a certain percentage of outliers.\n",
    "\n",
    "  Args:\n",
    "      data: A list of numerical values.\n",
    "      percentage: The percentage of outliers to exclude from each tail (e.g., 0.1 for 10%).\n",
    "\n",
    "  Returns:\n",
    "      The trimmed mean of the data, or None if the list is empty or the percentage is invalid.\n",
    "  \"\"\"\n",
    "\n",
    "  if not int_list or percentage < 0 or percentage > 0.5:\n",
    "    return None  # Handle empty list, invalid percentage\n",
    "\n",
    "  # Sort the data\n",
    "  sorted_data = sorted(int_list)\n",
    "\n",
    "  # Calculate the number of elements to exclude from each tail\n",
    "  num_to_exclude = int(len(int_list) * percentage)\n",
    "\n",
    "  # Trimmed data (excluding outliers)\n",
    "  trimmed_data = sorted_data[num_to_exclude:-num_to_exclude]\n",
    "\n",
    "  # Calculate the trimmed mean (average of trimmed data)\n",
    "  trimmed_mean_value = np.mean(trimmed_data)\n",
    "\n",
    "  return trimmed_mean_value\n"
   ]
  },
  {
   "cell_type": "code",
   "execution_count": null,
   "id": "b58c2ff0-8c4b-47e7-bef5-9147b2c455cb",
   "metadata": {},
   "outputs": [],
   "source": []
  }
 ],
 "metadata": {
  "kernelspec": {
   "display_name": "Python 3 (ipykernel)",
   "language": "python",
   "name": "python3"
  },
  "language_info": {
   "codemirror_mode": {
    "name": "ipython",
    "version": 3
   },
   "file_extension": ".py",
   "mimetype": "text/x-python",
   "name": "python",
   "nbconvert_exporter": "python",
   "pygments_lexer": "ipython3",
   "version": "3.10.8"
  }
 },
 "nbformat": 4,
 "nbformat_minor": 5
}
