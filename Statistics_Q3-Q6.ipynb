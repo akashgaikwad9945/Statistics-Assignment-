{
 "cells": [
  {
   "cell_type": "markdown",
   "id": "1a5d5286-8664-477b-97ba-88186d56bdaf",
   "metadata": {},
   "source": [
    "# Statistics_Q3-Q6"
   ]
  },
  {
   "cell_type": "code",
   "execution_count": 1,
   "id": "212047f0-0a9b-4044-86a3-579fab86a11a",
   "metadata": {},
   "outputs": [],
   "source": [
    "import pandas as pd\n",
    "import numpy as np\n",
    "import seaborn as sns\n",
    "import statistics as st\n",
    "import matplotlib.pyplot as plt\n",
    "from scipy.stats import norm "
   ]
  },
  {
   "cell_type": "markdown",
   "id": "7a3f9777-387f-4e14-89c2-f0cff5a2d68c",
   "metadata": {},
   "source": [
    "# Q3  Write a Python class representing a discrete random variable with methods to calculate its expected value and variance."
   ]
  },
  {
   "cell_type": "code",
   "execution_count": 2,
   "id": "945c8ade-ae68-4811-b681-ee765435ed4d",
   "metadata": {},
   "outputs": [
    {
     "name": "stdout",
     "output_type": "stream",
     "text": [
      "Expected Value: 1.9\n",
      "Variance: 0.69\n"
     ]
    }
   ],
   "source": [
    "class DiscreteRandomVariable:\n",
    "  \"\"\"\n",
    "  This class represents a discrete random variable with methods to calculate\n",
    "  its expected value and variance.\n",
    "  \"\"\"\n",
    "\n",
    "  def __init__(self, values, probabilities):\n",
    "    \"\"\"\n",
    "    Initializes a DiscreteRandomVariable object.\n",
    "\n",
    "    Args:\n",
    "        values: A list of possible values the random variable can take.\n",
    "        probabilities: A list of probabilities corresponding to each value in 'values'.\n",
    "    \"\"\"\n",
    "\n",
    "    if len(values) != len(probabilities):\n",
    "      raise ValueError(\"Length of values and probabilities must be equal.\")\n",
    "\n",
    "    self.values = values\n",
    "    self.probabilities = probabilities\n",
    "\n",
    "  def expected_value(self):\n",
    "    \"\"\"\n",
    "    Calculates the expected value (mean) of the random variable.\n",
    "\n",
    "    Returns:\n",
    "        The expected value of the random variable.\n",
    "    \"\"\"\n",
    "\n",
    "    expected_value = 0\n",
    "    for i in range(len(self.values)):\n",
    "      expected_value += self.values[i] * self.probabilities[i]\n",
    "\n",
    "    return expected_value\n",
    "\n",
    "  def variance(self):\n",
    "    \"\"\"\n",
    "    Calculates the variance of the random variable.\n",
    "\n",
    "    Returns:\n",
    "        The variance of the random variable.\n",
    "    \"\"\"\n",
    "\n",
    "    expected_value = self.expected_value()\n",
    "    variance = 0\n",
    "    for i in range(len(self.values)):\n",
    "      variance += (self.values[i] - expected_value)**2 * self.probabilities[i]\n",
    "\n",
    "    return variance\n",
    "\n",
    "# Example usage\n",
    "values = [1, 2, 3]\n",
    "probabilities = [0.4, 0.3, 0.3]\n",
    "\n",
    "random_variable = DiscreteRandomVariable(values, probabilities)\n",
    "\n",
    "expected_value = random_variable.expected_value()\n",
    "variance = random_variable.variance()\n",
    "\n",
    "print(\"Expected Value:\", expected_value)\n",
    "print(\"Variance:\", variance)\n"
   ]
  },
  {
   "cell_type": "markdown",
   "id": "a01c2b19-9a75-4dc9-8aff-b78c408157fa",
   "metadata": {},
   "source": [
    "# Q4  Implement a program to simulate the rolling of a fair six-sided die and calculate the expected value and variance of the outcomes."
   ]
  },
  {
   "cell_type": "code",
   "execution_count": 4,
   "id": "c1717dbb-cf44-47f7-9e35-467c825701e0",
   "metadata": {},
   "outputs": [
    {
     "name": "stdout",
     "output_type": "stream",
     "text": [
      "Simulation Results:\n",
      "Number of Rolls: 1000\n",
      "Expected Value: 3.511\n",
      "Variance: 2.911879000000013\n",
      "\n",
      "Theoretical Values:\n",
      "Expected Value: 3.5\n",
      "Variance: 2.9166666666666665\n"
     ]
    }
   ],
   "source": [
    "import random\n",
    "\n",
    "def roll_die(num_rolls):\n",
    "  \"\"\"\n",
    "  Simulates rolling a fair six-sided die 'num_rolls' times.\n",
    "\n",
    "  Args:\n",
    "      num_rolls: The number of times to roll the die.\n",
    "\n",
    "  Returns:\n",
    "      A list containing the results of each die roll.\n",
    "  \"\"\"\n",
    "\n",
    "  rolls = []\n",
    "  for _ in range(num_rolls):\n",
    "    rolls.append(random.randint(1, 6))\n",
    "  return rolls\n",
    "\n",
    "def calculate_statistics(rolls):\n",
    "  \"\"\"\n",
    "  Calculates the expected value and variance of a list of die roll results.\n",
    "\n",
    "  Args:\n",
    "      rolls: A list of integers representing die roll outcomes.\n",
    "\n",
    "  Returns:\n",
    "      A tuple containing the expected value and variance.\n",
    "  \"\"\"\n",
    "\n",
    "  total_sum = sum(rolls)\n",
    "  expected_value = total_sum / len(rolls)\n",
    "\n",
    "  variance = 0\n",
    "  for roll in rolls:\n",
    "    variance += (roll - expected_value)**2\n",
    "\n",
    "  variance /= len(rolls)\n",
    "\n",
    "  return expected_value, variance\n",
    "\n",
    "def main():\n",
    "  # Simulate rolling a six-sided die 1000 times\n",
    "  num_rolls = 1000\n",
    "  rolls = roll_die(num_rolls)\n",
    "\n",
    "  # Calculate expected value and variance from simulations\n",
    "  expected_value, variance = calculate_statistics(rolls)\n",
    "\n",
    "  # Theoretical expected value and variance of a fair six-sided die\n",
    "  theoretical_expected_value = 3.5\n",
    "  theoretical_variance = 35 / 12\n",
    "\n",
    "  # Print results\n",
    "  print(\"Simulation Results:\")\n",
    "  print(\"Number of Rolls:\", num_rolls)\n",
    "  print(\"Expected Value:\", expected_value)\n",
    "  print(\"Variance:\", variance)\n",
    "\n",
    "  print(\"\\nTheoretical Values:\")\n",
    "  print(\"Expected Value:\", theoretical_expected_value)\n",
    "  print(\"Variance:\", theoretical_variance)\n",
    "\n",
    "if __name__ == \"__main__\":\n",
    "  main()\n"
   ]
  },
  {
   "cell_type": "markdown",
   "id": "ad2311b1-c5d0-46ae-bcbd-e1d1c39be4db",
   "metadata": {},
   "source": [
    "# Q5  Create a Python function to generate random samples from a given probability distribution (e.g., binomial, Poisson) and calculate their mean and variance"
   ]
  },
  {
   "cell_type": "code",
   "execution_count": 5,
   "id": "4e231e63-ac67-4d71-8f69-822e9e3691c9",
   "metadata": {},
   "outputs": [
    {
     "name": "stdout",
     "output_type": "stream",
     "text": [
      "Binomial Distribution:\n",
      "Number of Samples: 1000\n",
      "Probability of Success (p): 0.7\n",
      "Samples: [1, 0, 1, 0, 1, 1, 1, 1, 1, 1]\n",
      "Mean: 0.712\n",
      "Variance: 0.20505599999999993\n",
      "\n",
      "Poisson Distribution:\n",
      "Number of Samples: 1000\n",
      "Lambda (lam): 5\n",
      "Samples: [3, 8, 5, 4, 4, 3, 2, 4, 4, 8]\n",
      "Mean: 4.989\n",
      "Variance: 4.990878999999999\n"
     ]
    }
   ],
   "source": [
    "\n",
    "def generate_samples(distribution, n, p=None, lam=None):\n",
    "  \"\"\"\n",
    "  Generates random samples from a given probability distribution.\n",
    "\n",
    "  Args:\n",
    "      distribution: The type of distribution (\"binomial\" or \"poisson\").\n",
    "      n: The number of samples to generate.\n",
    "      p (optional): The probability of success for the binomial distribution.\n",
    "      lam (optional): The lambda parameter for the Poisson distribution.\n",
    "\n",
    "  Returns:\n",
    "      A list of random samples and a tuple containing the mean and variance.\n",
    "\n",
    "  Raises:\n",
    "      ValueError: If an invalid distribution or missing parameter is provided.\n",
    "  \"\"\"\n",
    "\n",
    "  if distribution == \"binomial\":\n",
    "    if p is None:\n",
    "      raise ValueError(\"Probability (p) is required for binomial distribution.\")\n",
    "    samples = np.random.binomial(1, p, size=n)  # 1 trial with probability p\n",
    "  elif distribution == \"poisson\":\n",
    "    if lam is None:\n",
    "      raise ValueError(\"Lambda (lam) parameter is required for Poisson distribution.\")\n",
    "    samples = np.random.poisson(lam, size=n)\n",
    "  else:\n",
    "    raise ValueError(\"Invalid distribution type. Choose 'binomial' or 'poisson'.\")\n",
    "\n",
    "  mean = np.mean(samples)\n",
    "  variance = np.var(samples)\n",
    "\n",
    "  return samples.tolist(), (mean, variance)\n",
    "\n",
    "# Example usage (binomial distribution)\n",
    "n_samples = 1000\n",
    "p_success = 0.7  # Probability of success\n",
    "\n",
    "samples, stats = generate_samples(\"binomial\", n_samples, p=p_success)\n",
    "\n",
    "print(\"Binomial Distribution:\")\n",
    "print(\"Number of Samples:\", n_samples)\n",
    "print(\"Probability of Success (p):\", p_success)\n",
    "print(\"Samples:\", samples[:10])  # Print only the first 10 samples\n",
    "print(\"Mean:\", stats[0])\n",
    "print(\"Variance:\", stats[1])\n",
    "\n",
    "# Example usage (Poisson distribution)\n",
    "lam = 5  # Average number of occurrences\n",
    "\n",
    "samples, stats = generate_samples(\"poisson\", n_samples, lam=lam)\n",
    "\n",
    "print(\"\\nPoisson Distribution:\")\n",
    "print(\"Number of Samples:\", n_samples)\n",
    "print(\"Lambda (lam):\", lam)\n",
    "print(\"Samples:\", samples[:10])  # Print only the first 10 samples\n",
    "print(\"Mean:\", stats[0])\n",
    "print(\"Variance:\", stats[1])\n"
   ]
  },
  {
   "cell_type": "markdown",
   "id": "c79cec53-29ff-462d-9779-e8694ba5956d",
   "metadata": {},
   "source": [
    "# Q6 Write a Python script to generate random numbers from a Gaussian (normal) distribution and compute the mean, variance, and standard deviation of the samples."
   ]
  },
  {
   "cell_type": "code",
   "execution_count": 6,
   "id": "7635e8ea-d72a-4d0e-be9a-8d52ca22085d",
   "metadata": {},
   "outputs": [
    {
     "name": "stdout",
     "output_type": "stream",
     "text": [
      "Gaussian Distribution:\n",
      "Number of Samples: 1000\n",
      "Mean (True): 5.00\n",
      "Mean (Sample): 5.10\n",
      "Variance: 4.03\n",
      "Standard Deviation: 2.01\n"
     ]
    }
   ],
   "source": [
    "# Define parameters for the normal distribution\n",
    "mean = 5  # Mean value\n",
    "std_dev = 2  # Standard deviation\n",
    "\n",
    "# Specify the number of samples to generate\n",
    "num_samples = 1000\n",
    "\n",
    "# Generate random samples from the normal distribution\n",
    "samples = np.random.normal(loc=mean, scale=std_dev, size=num_samples)\n",
    "\n",
    "# Calculate the mean of the samples\n",
    "sample_mean = np.mean(samples)\n",
    "\n",
    "# Calculate the variance of the samples\n",
    "sample_variance = np.var(samples)\n",
    "\n",
    "# Calculate the standard deviation of the samples\n",
    "sample_std_dev = np.std(samples)\n",
    "\n",
    "# Print the results\n",
    "print(\"Gaussian Distribution:\")\n",
    "print(f\"Number of Samples: {num_samples}\")\n",
    "print(f\"Mean (True): {mean:.2f}\")  # Format mean with 2 decimal places\n",
    "print(f\"Mean (Sample): {sample_mean:.2f}\")\n",
    "print(f\"Variance: {sample_variance:.2f}\")\n",
    "print(f\"Standard Deviation: {sample_std_dev:.2f}\")\n"
   ]
  },
  {
   "cell_type": "code",
   "execution_count": null,
   "id": "ecf80346-5d89-4c30-a3ac-33fc2a27399f",
   "metadata": {},
   "outputs": [],
   "source": []
  }
 ],
 "metadata": {
  "kernelspec": {
   "display_name": "Python 3 (ipykernel)",
   "language": "python",
   "name": "python3"
  },
  "language_info": {
   "codemirror_mode": {
    "name": "ipython",
    "version": 3
   },
   "file_extension": ".py",
   "mimetype": "text/x-python",
   "name": "python",
   "nbconvert_exporter": "python",
   "pygments_lexer": "ipython3",
   "version": "3.10.8"
  }
 },
 "nbformat": 4,
 "nbformat_minor": 5
}
