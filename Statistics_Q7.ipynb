{
 "cells": [
  {
   "cell_type": "markdown",
   "id": "7d5d2da8-b5cc-4548-b021-5b97f1bd7ce6",
   "metadata": {},
   "source": [
    "#  Q.7 Use seaborn library to load `tips` dataset. Find the following from the dataset for the columns `total_bill` and `tip`:"
   ]
  },
  {
   "cell_type": "code",
   "execution_count": 17,
   "id": "45b7b837-fd35-462c-99ff-5114a83e181f",
   "metadata": {},
   "outputs": [],
   "source": [
    "import pandas as pd \n",
    "import numpy as np\n",
    "import seaborn as sns\n",
    "import statistics as st\n",
    "from scipy.stats import skew"
   ]
  },
  {
   "cell_type": "code",
   "execution_count": 18,
   "id": "970324af-3d68-41d1-8250-96e4ea757871",
   "metadata": {},
   "outputs": [
    {
     "data": {
      "text/html": [
       "<div>\n",
       "<style scoped>\n",
       "    .dataframe tbody tr th:only-of-type {\n",
       "        vertical-align: middle;\n",
       "    }\n",
       "\n",
       "    .dataframe tbody tr th {\n",
       "        vertical-align: top;\n",
       "    }\n",
       "\n",
       "    .dataframe thead th {\n",
       "        text-align: right;\n",
       "    }\n",
       "</style>\n",
       "<table border=\"1\" class=\"dataframe\">\n",
       "  <thead>\n",
       "    <tr style=\"text-align: right;\">\n",
       "      <th></th>\n",
       "      <th>total_bill</th>\n",
       "      <th>tip</th>\n",
       "      <th>sex</th>\n",
       "      <th>smoker</th>\n",
       "      <th>day</th>\n",
       "      <th>time</th>\n",
       "      <th>size</th>\n",
       "    </tr>\n",
       "  </thead>\n",
       "  <tbody>\n",
       "    <tr>\n",
       "      <th>0</th>\n",
       "      <td>16.99</td>\n",
       "      <td>1.01</td>\n",
       "      <td>Female</td>\n",
       "      <td>No</td>\n",
       "      <td>Sun</td>\n",
       "      <td>Dinner</td>\n",
       "      <td>2</td>\n",
       "    </tr>\n",
       "    <tr>\n",
       "      <th>1</th>\n",
       "      <td>10.34</td>\n",
       "      <td>1.66</td>\n",
       "      <td>Male</td>\n",
       "      <td>No</td>\n",
       "      <td>Sun</td>\n",
       "      <td>Dinner</td>\n",
       "      <td>3</td>\n",
       "    </tr>\n",
       "    <tr>\n",
       "      <th>2</th>\n",
       "      <td>21.01</td>\n",
       "      <td>3.50</td>\n",
       "      <td>Male</td>\n",
       "      <td>No</td>\n",
       "      <td>Sun</td>\n",
       "      <td>Dinner</td>\n",
       "      <td>3</td>\n",
       "    </tr>\n",
       "    <tr>\n",
       "      <th>3</th>\n",
       "      <td>23.68</td>\n",
       "      <td>3.31</td>\n",
       "      <td>Male</td>\n",
       "      <td>No</td>\n",
       "      <td>Sun</td>\n",
       "      <td>Dinner</td>\n",
       "      <td>2</td>\n",
       "    </tr>\n",
       "    <tr>\n",
       "      <th>4</th>\n",
       "      <td>24.59</td>\n",
       "      <td>3.61</td>\n",
       "      <td>Female</td>\n",
       "      <td>No</td>\n",
       "      <td>Sun</td>\n",
       "      <td>Dinner</td>\n",
       "      <td>4</td>\n",
       "    </tr>\n",
       "    <tr>\n",
       "      <th>...</th>\n",
       "      <td>...</td>\n",
       "      <td>...</td>\n",
       "      <td>...</td>\n",
       "      <td>...</td>\n",
       "      <td>...</td>\n",
       "      <td>...</td>\n",
       "      <td>...</td>\n",
       "    </tr>\n",
       "    <tr>\n",
       "      <th>239</th>\n",
       "      <td>29.03</td>\n",
       "      <td>5.92</td>\n",
       "      <td>Male</td>\n",
       "      <td>No</td>\n",
       "      <td>Sat</td>\n",
       "      <td>Dinner</td>\n",
       "      <td>3</td>\n",
       "    </tr>\n",
       "    <tr>\n",
       "      <th>240</th>\n",
       "      <td>27.18</td>\n",
       "      <td>2.00</td>\n",
       "      <td>Female</td>\n",
       "      <td>Yes</td>\n",
       "      <td>Sat</td>\n",
       "      <td>Dinner</td>\n",
       "      <td>2</td>\n",
       "    </tr>\n",
       "    <tr>\n",
       "      <th>241</th>\n",
       "      <td>22.67</td>\n",
       "      <td>2.00</td>\n",
       "      <td>Male</td>\n",
       "      <td>Yes</td>\n",
       "      <td>Sat</td>\n",
       "      <td>Dinner</td>\n",
       "      <td>2</td>\n",
       "    </tr>\n",
       "    <tr>\n",
       "      <th>242</th>\n",
       "      <td>17.82</td>\n",
       "      <td>1.75</td>\n",
       "      <td>Male</td>\n",
       "      <td>No</td>\n",
       "      <td>Sat</td>\n",
       "      <td>Dinner</td>\n",
       "      <td>2</td>\n",
       "    </tr>\n",
       "    <tr>\n",
       "      <th>243</th>\n",
       "      <td>18.78</td>\n",
       "      <td>3.00</td>\n",
       "      <td>Female</td>\n",
       "      <td>No</td>\n",
       "      <td>Thur</td>\n",
       "      <td>Dinner</td>\n",
       "      <td>2</td>\n",
       "    </tr>\n",
       "  </tbody>\n",
       "</table>\n",
       "<p>244 rows × 7 columns</p>\n",
       "</div>"
      ],
      "text/plain": [
       "     total_bill   tip     sex smoker   day    time  size\n",
       "0         16.99  1.01  Female     No   Sun  Dinner     2\n",
       "1         10.34  1.66    Male     No   Sun  Dinner     3\n",
       "2         21.01  3.50    Male     No   Sun  Dinner     3\n",
       "3         23.68  3.31    Male     No   Sun  Dinner     2\n",
       "4         24.59  3.61  Female     No   Sun  Dinner     4\n",
       "..          ...   ...     ...    ...   ...     ...   ...\n",
       "239       29.03  5.92    Male     No   Sat  Dinner     3\n",
       "240       27.18  2.00  Female    Yes   Sat  Dinner     2\n",
       "241       22.67  2.00    Male    Yes   Sat  Dinner     2\n",
       "242       17.82  1.75    Male     No   Sat  Dinner     2\n",
       "243       18.78  3.00  Female     No  Thur  Dinner     2\n",
       "\n",
       "[244 rows x 7 columns]"
      ]
     },
     "execution_count": 18,
     "metadata": {},
     "output_type": "execute_result"
    }
   ],
   "source": [
    "data = sns.load_dataset('tips')\n",
    "data"
   ]
  },
  {
   "cell_type": "raw",
   "id": "ca34fda7-a224-4bfe-9f4f-c6d7db2a4e9e",
   "metadata": {},
   "source": [
    " (i) Write a Python function that calculates their skewness"
   ]
  },
  {
   "cell_type": "code",
   "execution_count": 19,
   "id": "b926ccff-df08-4d8a-aaed-666b828b1048",
   "metadata": {},
   "outputs": [],
   "source": [
    "def calculate_skewness(col1,col2):\n",
    "    print(\"Skewness:\")\n",
    "\n",
    "    print(\"total_bill :  \", skew(col1))\n",
    "    print(\"tip : \", skew(col2))"
   ]
  },
  {
   "cell_type": "code",
   "execution_count": 20,
   "id": "2c042e03-e2bb-458b-918e-bf9ec7fc5a75",
   "metadata": {},
   "outputs": [
    {
     "name": "stdout",
     "output_type": "stream",
     "text": [
      "Skewness:\n",
      "total_bill :   1.1262346334818638\n",
      "tip :  1.4564266884221506\n"
     ]
    }
   ],
   "source": [
    "calculate_skewness( data[\"total_bill\"],data[\"tip\"])"
   ]
  },
  {
   "cell_type": "raw",
   "id": "963ebf2c-049d-42ed-9bd3-79ec03311e96",
   "metadata": {},
   "source": [
    " (ii) Create a program that determines whether the columns exhibit positive skewness, negative skewness, or is approximately symmetric."
   ]
  },
  {
   "cell_type": "code",
   "execution_count": 21,
   "id": "a22a1075-b327-4b39-9430-e09c2f1d4482",
   "metadata": {},
   "outputs": [
    {
     "name": "stdout",
     "output_type": "stream",
     "text": [
      "Skewness and Distribution:\n",
      "total_bill : 1.1262346334818638\n",
      "  - Positive Skew (distribution leans right)\n",
      "tip : 1.4564266884221506\n",
      "  - Positive Skew (distribution leans right)\n"
     ]
    }
   ],
   "source": [
    "def calculate_skewness_and_classify(col1, col2):\n",
    "  \"\"\"\n",
    "  Calculates the skewness for two columns and classifies their distribution.\n",
    "\n",
    "  Args:\n",
    "      col1: The first column data.\n",
    "      col2: The second column data.\n",
    "\n",
    "  Prints the skewness and classification for each column.\n",
    "  \"\"\"\n",
    "\n",
    "  print(\"Skewness and Distribution:\")\n",
    "  print(\"total_bill :\", skew(col1))\n",
    "  if skew(col1) > 0:\n",
    "    print(\"  - Positive Skew (distribution leans right)\")\n",
    "  elif skew(col1) < 0:\n",
    "    print(\"  - Negative Skew (distribution leans left)\")\n",
    "  else:\n",
    "    print(\"  - Approximately Symmetrical\")\n",
    "\n",
    "  print(\"tip :\", skew(col2))\n",
    "  if skew(col2) > 0:\n",
    "    print(\"  - Positive Skew (distribution leans right)\")\n",
    "  elif skew(col2) < 0:\n",
    "    print(\"  - Negative Skew (distribution leans left)\")\n",
    "  else:\n",
    "    print(\"  - Approximately Symmetrical\")\n",
    "\n",
    "\n",
    "# Load the tips dataset from seaborn\n",
    "data = sns.load_dataset(\"tips\")\n",
    "\n",
    "# Analyze skewness and distribution for total_bill and tip\n",
    "calculate_skewness_and_classify(data[\"total_bill\"], data[\"tip\"])\n"
   ]
  },
  {
   "cell_type": "raw",
   "id": "2c5891c9-b84b-4ff2-bcce-cfddeec64955",
   "metadata": {},
   "source": [
    "(iii) Write a function that calculates the covariance between two columns"
   ]
  },
  {
   "cell_type": "code",
   "execution_count": 22,
   "id": "03fb9df9-dfcb-49e4-80e8-ec3aa1bd0981",
   "metadata": {},
   "outputs": [
    {
     "name": "stdout",
     "output_type": "stream",
     "text": [
      "Covariance: 8.323501629224852\n"
     ]
    }
   ],
   "source": [
    "def calculate_covariance(col1, col2):\n",
    "  \"\"\"\n",
    "  Calculates the covariance between two columns.\n",
    "\n",
    "  Args:\n",
    "      col1: The first column data (assumed to be numerical).\n",
    "      col2: The second column data (assumed to be numerical).\n",
    "\n",
    "  Returns:\n",
    "      The covariance between the two columns.\n",
    "  \"\"\"\n",
    "\n",
    "  # Handle potential errors for non-numeric data\n",
    "  if not np.issubdtype(col1.dtype, np.number) or not np.issubdtype(col2.dtype, np.number):\n",
    "    raise TypeError(\"Columns must contain numerical data.\")\n",
    "\n",
    "  # Calculate the mean of each column\n",
    "  mean1 = np.mean(col1)\n",
    "  mean2 = np.mean(col2)\n",
    "\n",
    "  # Calculate the covariance\n",
    "  covariance = np.sum((col1 - mean1) * (col2 - mean2)) / (len(col1) - 1)\n",
    "\n",
    "  return covariance\n",
    "\n",
    "\n",
    "try:\n",
    "  covariance = calculate_covariance(data[\"total_bill\"], data[\"tip\"])\n",
    "  print(\"Covariance:\", covariance)\n",
    "except TypeError as e:\n",
    "  print(e)\n"
   ]
  },
  {
   "cell_type": "code",
   "execution_count": 31,
   "id": "e7bc43b1-27aa-4063-aae7-a7362fdfdebf",
   "metadata": {},
   "outputs": [
    {
     "name": "stdout",
     "output_type": "stream",
     "text": [
      "Covariance between 'total_bill' and 'tip': 8.323501629224854\n"
     ]
    }
   ],
   "source": [
    "## Using BuiltIn Function\n",
    "def calculate_covariance(col1, col2):\n",
    "  \"\"\"\n",
    "  Calculates the covariance between two columns (assuming pandas Series).\n",
    "\n",
    "  Args:\n",
    "      col1: The first column data (assumed to be a pandas Series).\n",
    "      col2: The second column data (assumed to be a pandas Series).\n",
    "\n",
    "  Prints the covariance.\n",
    "\n",
    "  Returns:\n",
    "      None (This function only prints results, not returning values).\n",
    "  \"\"\"\n",
    "\n",
    "  # Optional error handling for non-numerical data (using NumPy)\n",
    "  if not np.issubdtype(col1.dtype, np.number) or not np.issubdtype(col2.dtype, np.number):\n",
    "    raise TypeError(\"Columns must contain numerical data.\")\n",
    "\n",
    "  covariance = col1.cov(col2)\n",
    "  print(\"Covariance between 'total_bill' and 'tip':\", covariance)\n",
    "\n",
    "# Calculate and print covariance\n",
    "calculate_covariance(data[\"total_bill\"], data[\"tip\"])\n"
   ]
  },
  {
   "cell_type": "raw",
   "id": "6cd09d23-450f-4ca0-a3ae-e35892bda357",
   "metadata": {},
   "source": [
    " (iv) Implement a Python program that calculates the Pearson correlation coefficient between two columns."
   ]
  },
  {
   "cell_type": "code",
   "execution_count": 33,
   "id": "b35b7d20-8395-4449-967f-de6163763499",
   "metadata": {},
   "outputs": [
    {
     "name": "stdout",
     "output_type": "stream",
     "text": [
      "Pearson Correlation Coefficient: 0.6757341092113641\n"
     ]
    }
   ],
   "source": [
    "def calculate_correlation(col1, col2):\n",
    "  \"\"\"\n",
    "  Calculates the Pearson correlation coefficient between two columns.\n",
    "\n",
    "  Args:\n",
    "      col1: The first column data (assumed to be numerical).\n",
    "      col2: The second column data (assumed to be numerical).\n",
    "\n",
    "  Returns:\n",
    "      The Pearson correlation coefficient between the two columns.\n",
    "  \"\"\"\n",
    "\n",
    "  # Handle potential errors for non-numeric data\n",
    "  if not np.issubdtype(col1.dtype, np.number) or not np.issubdtype(col2.dtype, np.number):\n",
    "    raise TypeError(\"Columns must contain numerical data.\")\n",
    "\n",
    "  correlation = col1.corr(col2)\n",
    "  return correlation\n",
    "\n",
    "\n",
    "# Calculate and print correlation\n",
    "try:\n",
    "  correlation = calculate_correlation(data[\"total_bill\"], data[\"tip\"])\n",
    "  print(\"Pearson Correlation Coefficient:\", correlation)\n",
    "except TypeError as e:\n",
    "  print(e)\n"
   ]
  },
  {
   "cell_type": "raw",
   "id": "e45679c2-2f21-4348-82d4-11741ea668bd",
   "metadata": {},
   "source": [
    " (v) Write a script to visualize the correlation between two specific columns in a Pandas DataFrame using \n",
    "scatter plots."
   ]
  },
  {
   "cell_type": "code",
   "execution_count": 36,
   "id": "072f88a8-473c-4602-b7e8-590651fb24a6",
   "metadata": {},
   "outputs": [
    {
     "data": {
      "text/plain": [
       "<AxesSubplot: xlabel='total_bill', ylabel='tip'>"
      ]
     },
     "execution_count": 36,
     "metadata": {},
     "output_type": "execute_result"
    },
    {
     "data": {
      "image/png": "[encoded data removed]",
      "text/plain": [
       "<Figure size 640x480 with 1 Axes>"
      ]
     },
     "metadata": {},
     "output_type": "display_data"
    }
   ],
   "source": [
    "# Specify the columns for visualization\n",
    "col1 = \"total_bill\"\n",
    "col2 = \"tip\"\n",
    "\n",
    "# Create a scatter plot\n",
    "sns.scatterplot(\n",
    "    x=col1,\n",
    "    y=col2,\n",
    "    data=data,\n",
    "    hue=\"sex\",  # Optional: Add hue to visualize by categorical variable (sex in this case)\n",
    "    style=\"sex\",  # Optional: Add style to differentiate points by categorical variable\n",
    "    size=\"tip\",  # Optional: Adjust point size based on a column value (tip here)\n",
    ")\n",
    "\n"
   ]
  },
  {
   "cell_type": "code",
   "execution_count": null,
   "id": "57d00a9a-63eb-4234-880a-b1d5b9177d01",
   "metadata": {},
   "outputs": [],
   "source": []
  }
 ],
 "metadata": {
  "kernelspec": {
   "display_name": "Python 3 (ipykernel)",
   "language": "python",
   "name": "python3"
  },
  "language_info": {
   "codemirror_mode": {
    "name": "ipython",
    "version": 3
   },
   "file_extension": ".py",
   "mimetype": "text/x-python",
   "name": "python",
   "nbconvert_exporter": "python",
   "pygments_lexer": "ipython3",
   "version": "3.10.8"
  }
 },
 "nbformat": 4,
 "nbformat_minor": 5
}
